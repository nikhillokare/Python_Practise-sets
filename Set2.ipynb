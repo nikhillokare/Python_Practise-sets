{
 "cells": [
  {
   "cell_type": "code",
   "execution_count": 9,
   "id": "44087767-9e86-4a27-a1f1-7e5bc6dbd22e",
   "metadata": {},
   "outputs": [],
   "source": [
    "a = [2,3,4,5,6,7,'mango','banana','orange','grapes']"
   ]
  },
  {
   "cell_type": "code",
   "execution_count": 10,
   "id": "c4bbabd8-7b85-4835-b495-32563133043c",
   "metadata": {},
   "outputs": [
    {
     "data": {
      "text/plain": [
       "[2, 3, 4, 5, 6, 7, 'mango', 'banana', 'orange', 'grapes']"
      ]
     },
     "execution_count": 10,
     "metadata": {},
     "output_type": "execute_result"
    }
   ],
   "source": [
    "a"
   ]
  },
  {
   "cell_type": "code",
   "execution_count": 14,
   "id": "f9ddfd7d-4ce3-41ba-873c-86621d5521c0",
   "metadata": {},
   "outputs": [],
   "source": [
    "a[5] = 'apple'"
   ]
  },
  {
   "cell_type": "code",
   "execution_count": 15,
   "id": "a4c3c1e5-7620-48ef-a3f7-d6e1e5dd0a05",
   "metadata": {},
   "outputs": [
    {
     "data": {
      "text/plain": [
       "[2, 3, 4, 5, 6, 'apple', 'apple', 'banana', 'orange', 'grapes']"
      ]
     },
     "execution_count": 15,
     "metadata": {},
     "output_type": "execute_result"
    }
   ],
   "source": [
    "a"
   ]
  },
  {
   "cell_type": "code",
   "execution_count": 16,
   "id": "cb8d09be-6243-4911-bc56-fe2a65cba21a",
   "metadata": {},
   "outputs": [
    {
     "data": {
      "text/plain": [
       "'grapes'"
      ]
     },
     "execution_count": 16,
     "metadata": {},
     "output_type": "execute_result"
    }
   ],
   "source": [
    "a.pop()"
   ]
  },
  {
   "cell_type": "code",
   "execution_count": 17,
   "id": "38d8149e-f577-4c63-b720-8a6b0ec265be",
   "metadata": {},
   "outputs": [
    {
     "data": {
      "text/plain": [
       "[2, 3, 4, 5, 6, 'apple', 'apple', 'banana', 'orange']"
      ]
     },
     "execution_count": 17,
     "metadata": {},
     "output_type": "execute_result"
    }
   ],
   "source": [
    "a"
   ]
  },
  {
   "cell_type": "code",
   "execution_count": 18,
   "id": "e33fbdab-c9c7-403e-a29f-e7563823a1d9",
   "metadata": {},
   "outputs": [],
   "source": [
    "L = [1,2,3,4,5,6,7]"
   ]
  },
  {
   "cell_type": "code",
   "execution_count": 21,
   "id": "12746d11-cfff-43dd-aaef-cf733681e501",
   "metadata": {},
   "outputs": [
    {
     "data": {
      "text/plain": [
       "[2, 3, 4]"
      ]
     },
     "execution_count": 21,
     "metadata": {},
     "output_type": "execute_result"
    }
   ],
   "source": [
    "L[1:4]"
   ]
  },
  {
   "cell_type": "code",
   "execution_count": 28,
   "id": "aebd5650-7736-40ba-bbe0-53e75f538c11",
   "metadata": {},
   "outputs": [],
   "source": [
    "L = [4,5,6,8,3]"
   ]
  },
  {
   "cell_type": "code",
   "execution_count": 30,
   "id": "5b07d74f-08ae-43dd-9faf-72ca2e295f3d",
   "metadata": {},
   "outputs": [],
   "source": [
    "L.reverse()"
   ]
  },
  {
   "cell_type": "code",
   "execution_count": 32,
   "id": "3226b5b0-a8e2-4379-9385-2db600798836",
   "metadata": {},
   "outputs": [
    {
     "data": {
      "text/plain": [
       "[3, 8, 6, 5, 4]"
      ]
     },
     "execution_count": 32,
     "metadata": {},
     "output_type": "execute_result"
    }
   ],
   "source": [
    "L"
   ]
  },
  {
   "cell_type": "code",
   "execution_count": 37,
   "id": "4360954b-4531-4e9a-ba32-74903d3d21a5",
   "metadata": {},
   "outputs": [],
   "source": [
    "L=[2,4,7,3,6,8]"
   ]
  },
  {
   "cell_type": "code",
   "execution_count": 38,
   "id": "890a201f-64fc-476d-a865-be37ca236eac",
   "metadata": {},
   "outputs": [
    {
     "name": "stdout",
     "output_type": "stream",
     "text": [
      "[4, 16, 49, 9, 36, 64]\n"
     ]
    }
   ],
   "source": [
    "square = [x**2 for x in L]\n",
    "print(square)"
   ]
  },
  {
   "cell_type": "code",
   "execution_count": 41,
   "id": "bd9e4416-7f0c-4341-973b-6e9cc37e464a",
   "metadata": {},
   "outputs": [
    {
     "name": "stdout",
     "output_type": "stream",
     "text": [
      "[4, 16, 49, 9, 36, 64]\n"
     ]
    }
   ],
   "source": [
    "square = list(map(lambda x: x**2, L))\n",
    "print(square)"
   ]
  },
  {
   "cell_type": "code",
   "execution_count": 42,
   "id": "f5ab2eb6-008f-460d-8881-cb9fcf821325",
   "metadata": {},
   "outputs": [
    {
     "name": "stdout",
     "output_type": "stream",
     "text": [
      "15\n"
     ]
    }
   ],
   "source": [
    "def test(t:tuple):\n",
    "    return sum(t)\n",
    "t = [1,2,3,4,5]\n",
    "add = test(t)\n",
    "print(add)"
   ]
  },
  {
   "cell_type": "code",
   "execution_count": 49,
   "id": "908efe78-31dc-4a73-b79e-15d16583c9a0",
   "metadata": {},
   "outputs": [
    {
     "name": "stdout",
     "output_type": "stream",
     "text": [
      "{'cherry', 'mango', 'apple', 'grapes', 'banana', 'kiwi'}\n"
     ]
    }
   ],
   "source": [
    "fruites1 = {'mango','banana','apple'}\n",
    "fruites2 = {'cherry','grapes','kiwi'}\n",
    "add = fruites1.union(fruites2)\n",
    "print(add)"
   ]
  },
  {
   "cell_type": "code",
   "execution_count": 55,
   "id": "d43ba832-b166-4ddd-a580-96acd0a37004",
   "metadata": {},
   "outputs": [],
   "source": [
    "random = {1,2,3,4,5,7}\n",
    "random.add('nikhil')"
   ]
  },
  {
   "cell_type": "code",
   "execution_count": 56,
   "id": "bc52bed3-07f5-49b5-9270-4530abb051c4",
   "metadata": {},
   "outputs": [
    {
     "data": {
      "text/plain": [
       "{1, 2, 3, 4, 5, 7, 'nikhil'}"
      ]
     },
     "execution_count": 56,
     "metadata": {},
     "output_type": "execute_result"
    }
   ],
   "source": [
    "random"
   ]
  },
  {
   "cell_type": "code",
   "execution_count": 57,
   "id": "66f07731-4bb6-4412-91be-0bedfd606e98",
   "metadata": {},
   "outputs": [],
   "source": [
    "animal = {'lion','tiger','wolf','panther'}"
   ]
  },
  {
   "cell_type": "code",
   "execution_count": 60,
   "id": "93915d64-0763-4b87-b726-bcefc87323a2",
   "metadata": {},
   "outputs": [],
   "source": [
    "animal.remove('wolf')"
   ]
  },
  {
   "cell_type": "code",
   "execution_count": 61,
   "id": "4d2f7258-2b8f-4dcb-9824-922d95d36426",
   "metadata": {},
   "outputs": [
    {
     "data": {
      "text/plain": [
       "{'lion', 'panther', 'tiger'}"
      ]
     },
     "execution_count": 61,
     "metadata": {},
     "output_type": "execute_result"
    }
   ],
   "source": [
    "animal"
   ]
  },
  {
   "cell_type": "code",
   "execution_count": 63,
   "id": "d9e5e805-71c2-44a6-ac8d-c13ac5ee4bd3",
   "metadata": {},
   "outputs": [
    {
     "name": "stdout",
     "output_type": "stream",
     "text": [
      "[('1984', 'The Shawshank Redemption'), ('To Kill a Mockingbird', 'The Godfather'), ('Pride and Prejudice', 'The Dark Knight')]\n"
     ]
    }
   ],
   "source": [
    "favorite_books = {\"1984\", \"To Kill a Mockingbird\", \"Pride and Prejudice\"}\n",
    "favorite_movies = [\"The Shawshank Redemption\", \"The Godfather\", \"The Dark Knight\"]\n",
    "\n",
    "l = list(zip(favorite_books,favorite_movies))\n",
    "print(l)"
   ]
  },
  {
   "cell_type": "code",
   "execution_count": 64,
   "id": "8d033e2d-38b9-44f0-99a7-f22c7c245285",
   "metadata": {},
   "outputs": [],
   "source": [
    "def fun(l):\n",
    "    diffs = []\n",
    "    for i in range(1, len(l)):\n",
    "        diff = l[i] - l[i-1]\n",
    "        diffs.append(diff)\n",
    "    return diffs"
   ]
  },
  {
   "cell_type": "code",
   "execution_count": 65,
   "id": "f087c5c0-4459-4146-a13c-79059e256696",
   "metadata": {},
   "outputs": [
    {
     "name": "stdout",
     "output_type": "stream",
     "text": [
      "[4, 3, 6, 4]\n"
     ]
    }
   ],
   "source": [
    "my_list = [5, 9, 12, 18, 22]\n",
    "answer = fun(my_list)\n",
    "print(answer)"
   ]
  },
  {
   "cell_type": "code",
   "execution_count": null,
   "id": "124c6cea-c2ef-4223-832b-13aa4dcaf918",
   "metadata": {},
   "outputs": [],
   "source": []
  }
 ],
 "metadata": {
  "kernelspec": {
   "display_name": "Python 3 (ipykernel)",
   "language": "python",
   "name": "python3"
  },
  "language_info": {
   "codemirror_mode": {
    "name": "ipython",
    "version": 3
   },
   "file_extension": ".py",
   "mimetype": "text/x-python",
   "name": "python",
   "nbconvert_exporter": "python",
   "pygments_lexer": "ipython3",
   "version": "3.10.8"
  }
 },
 "nbformat": 4,
 "nbformat_minor": 5
}
