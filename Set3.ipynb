{
 "cells": [
  {
   "cell_type": "code",
   "execution_count": 2,
   "id": "edf99ef1-49f7-4d6b-9ef7-4afd9ec53e0a",
   "metadata": {},
   "outputs": [],
   "source": [
    "fruits={\n",
    "  \"apple\": 0.75,\n",
    "  \"banana\": 1.25,\n",
    "  \"orange\": 0.90 \n",
    "}"
   ]
  },
  {
   "cell_type": "code",
   "execution_count": 9,
   "id": "1adf5a25-0a76-47d7-a70a-5028237f4973",
   "metadata": {},
   "outputs": [
    {
     "name": "stdout",
     "output_type": "stream",
     "text": [
      "1.25\n"
     ]
    }
   ],
   "source": [
    "print(fruits['banana'])"
   ]
  },
  {
   "cell_type": "code",
   "execution_count": 10,
   "id": "1356ea79-3c1d-493b-b50a-ab21c6fb1eaf",
   "metadata": {},
   "outputs": [],
   "source": [
    "ages={\n",
    "   \"Alice\": 30,\n",
    "   \"Bob\": 2,\n",
    "   \"Charlie\": 35\n",
    "}"
   ]
  },
  {
   "cell_type": "code",
   "execution_count": 12,
   "id": "ba723049-7621-47b8-8e26-7776c8169acd",
   "metadata": {},
   "outputs": [
    {
     "name": "stdout",
     "output_type": "stream",
     "text": [
      "35\n"
     ]
    }
   ],
   "source": [
    "print(ages['Charlie'])"
   ]
  },
  {
   "cell_type": "code",
   "execution_count": 17,
   "id": "48fe62f9-7dab-45ba-a544-1fca5cc4a5fc",
   "metadata": {},
   "outputs": [
    {
     "name": "stdout",
     "output_type": "stream",
     "text": [
      "{'hello': 2, 'world': 1}\n"
     ]
    }
   ],
   "source": [
    "def word_count(text):\n",
    "    words = text.lower().split()\n",
    "    count={}\n",
    "    \n",
    "    for word in words:\n",
    "        if word in count:\n",
    "            count[word] += 1\n",
    "        else:\n",
    "            count[word] = 1\n",
    "            \n",
    "    return count\n",
    "text = 'hello world hello'\n",
    "counts = word_count(text)\n",
    "print(counts)"
   ]
  },
  {
   "cell_type": "code",
   "execution_count": 31,
   "id": "64c5958e-c8e4-4c87-8a18-c89621f4f702",
   "metadata": {},
   "outputs": [
    {
     "name": "stdin",
     "output_type": "stream",
     "text": [
      "Enter the name Alice\n"
     ]
    },
    {
     "name": "stdout",
     "output_type": "stream",
     "text": [
      "Alice's phone number is 555-1234\n"
     ]
    }
   ],
   "source": [
    "phone_book={\n",
    "    \"Alice\": \"555-1234\",\n",
    "    \"Bob\": \"555-5678\",\n",
    "    \"Charlie\": \"555-9012\"\n",
    "}\n",
    "user = input('Enter the name')\n",
    "if user in phone_book:\n",
    "        phone_number =  phone_book[user]\n",
    "        print(f\"{user}'s phone number is {phone_number}\")\n",
    "else:\n",
    "        print('user was not found')"
   ]
  },
  {
   "cell_type": "code",
   "execution_count": 20,
   "id": "4037d409-7e73-4264-9934-2a0f8b7f2c78",
   "metadata": {},
   "outputs": [
    {
     "data": {
      "text/plain": [
       "{'Alice': '555-1234', 'Bob': '555-5678', 'Charlie': '555-9012'}"
      ]
     },
     "execution_count": 20,
     "metadata": {},
     "output_type": "execute_result"
    }
   ],
   "source": [
    "phone_book"
   ]
  },
  {
   "cell_type": "code",
   "execution_count": 42,
   "id": "dca1e2d7-fbfa-4845-921f-efab18da5b79",
   "metadata": {},
   "outputs": [
    {
     "name": "stdin",
     "output_type": "stream",
     "text": [
      "Enter the number 3\n"
     ]
    },
    {
     "name": "stdout",
     "output_type": "stream",
     "text": [
      "Too low!\n"
     ]
    }
   ],
   "source": [
    "num = int(input('Enter the number'))\n",
    "if num < 5:\n",
    "    print('Too low!')\n",
    "else:\n",
    "    print('Too high!')"
   ]
  },
  {
   "cell_type": "code",
   "execution_count": 47,
   "id": "877d0c21-3bfa-4cbc-b8bd-60f7d90363a5",
   "metadata": {},
   "outputs": [
    {
     "name": "stdin",
     "output_type": "stream",
     "text": [
      "Enter the Password ihuggcg\n"
     ]
    },
    {
     "name": "stdout",
     "output_type": "stream",
     "text": [
      "Access denied\n"
     ]
    }
   ],
   "source": [
    "Password = input('Enter the Password')\n",
    "if Password == 'password123':\n",
    "    print('Access granted')\n",
    "else:\n",
    "    print('Access denied')"
   ]
  },
  {
   "cell_type": "code",
   "execution_count": 51,
   "id": "c1d7240b-6fa8-4e07-a849-fad1686ed442",
   "metadata": {},
   "outputs": [
    {
     "name": "stdin",
     "output_type": "stream",
     "text": [
      "Enter the number 10\n"
     ]
    },
    {
     "name": "stdout",
     "output_type": "stream",
     "text": [
      "1\n",
      "3\n",
      "5\n",
      "7\n",
      "9\n"
     ]
    }
   ],
   "source": [
    "num = int(input('Enter the number'))\n",
    "for i in range(1,num+1,2):\n",
    "    print(i)"
   ]
  },
  {
   "cell_type": "code",
   "execution_count": 1,
   "id": "966763c5-89ac-4b66-84a8-44ce50c9d22b",
   "metadata": {},
   "outputs": [
    {
     "name": "stdin",
     "output_type": "stream",
     "text": [
      "Guess the number between 1 to 100 3\n"
     ]
    },
    {
     "name": "stdout",
     "output_type": "stream",
     "text": [
      "too low\n"
     ]
    },
    {
     "name": "stdin",
     "output_type": "stream",
     "text": [
      "Guess the number between 1 to 100 5\n"
     ]
    },
    {
     "name": "stdout",
     "output_type": "stream",
     "text": [
      "you win\n"
     ]
    }
   ],
   "source": [
    "import random\n",
    "secret_number = random.randint(1,10)\n",
    "attempts = 3 \n",
    "while attempts > 0:\n",
    "    guess = int(input('Guess the number between 1 to 10'))\n",
    "    if guess == secret_number:\n",
    "        print('you win')\n",
    "        break\n",
    "    elif guess < secret_number:\n",
    "        print('too low')\n",
    "    else:\n",
    "        print('too high')\n",
    "    attempts -= 1\n",
    "if attempts == 0:\n",
    "    print('you lose')"
   ]
  },
  {
   "cell_type": "code",
   "execution_count": 6,
   "id": "24164160-ed7f-4def-a051-6858cba6dd42",
   "metadata": {},
   "outputs": [
    {
     "name": "stdin",
     "output_type": "stream",
     "text": [
      "Enter the age 50\n"
     ]
    },
    {
     "name": "stdout",
     "output_type": "stream",
     "text": [
      "an adult\n"
     ]
    }
   ],
   "source": [
    "age = int(input('Enter the age'))\n",
    "\n",
    "if age <= 12:\n",
    "    print('a child')\n",
    "elif age <= 20:\n",
    "    print('a teenager')\n",
    "elif age <= 60:\n",
    "    print('an adult')\n",
    "else:\n",
    "    print('a senior')"
   ]
  },
  {
   "cell_type": "code",
   "execution_count": null,
   "id": "2b7053a7-9e8b-4ef9-b2b3-2b9cec8710ee",
   "metadata": {},
   "outputs": [],
   "source": []
  }
 ],
 "metadata": {
  "kernelspec": {
   "display_name": "Python 3 (ipykernel)",
   "language": "python",
   "name": "python3"
  },
  "language_info": {
   "codemirror_mode": {
    "name": "ipython",
    "version": 3
   },
   "file_extension": ".py",
   "mimetype": "text/x-python",
   "name": "python",
   "nbconvert_exporter": "python",
   "pygments_lexer": "ipython3",
   "version": "3.10.8"
  }
 },
 "nbformat": 4,
 "nbformat_minor": 5
}
