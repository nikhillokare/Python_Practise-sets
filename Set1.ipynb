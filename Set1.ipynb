{
 "cells": [
  {
   "cell_type": "code",
   "execution_count": 9,
   "id": "41083262-7cf0-4eae-8dbf-6392ba66fc2a",
   "metadata": {},
   "outputs": [
    {
     "name": "stdout",
     "output_type": "stream",
     "text": [
      "11\n"
     ]
    }
   ],
   "source": [
    "def add_numbers(x,y):\n",
    "    add = x + y\n",
    "    return add\n",
    "    result = add_numbers(5,6)\n",
    "print(result)"
   ]
  },
  {
   "cell_type": "code",
   "execution_count": 11,
   "id": "47b2e7d1-d22b-454f-86b8-175422046513",
   "metadata": {},
   "outputs": [
    {
     "name": "stdin",
     "output_type": "stream",
     "text": [
      "Enter the first number:  5\n",
      "Enter the second number:  5\n"
     ]
    },
    {
     "name": "stdout",
     "output_type": "stream",
     "text": [
      "The sum of 5 and 5 is 10\n"
     ]
    }
   ],
   "source": [
    "def add_numbers(num1, num2):\n",
    "    result = num1 + num2\n",
    "    return result\n",
    "num1 = int(input(\"Enter the first number: \"))\n",
    "num2 = int(input(\"Enter the second number: \"))\n",
    "sum = add_numbers(num1, num2)\n",
    "print(\"The sum of\", num1, \"and\", num2, \"is\", sum)"
   ]
  },
  {
   "cell_type": "code",
   "execution_count": 16,
   "id": "a123a385-6ffd-4040-b309-830b7757233a",
   "metadata": {},
   "outputs": [
    {
     "name": "stdin",
     "output_type": "stream",
     "text": [
      "Enter the the number 625\n"
     ]
    },
    {
     "name": "stdout",
     "output_type": "stream",
     "text": [
      "the square root of 625 is 25.0\n"
     ]
    }
   ],
   "source": [
    "import math\n",
    "def sqaure_root(x):\n",
    "    result = math.sqrt(x)\n",
    "    return result\n",
    "x = int(input('Enter the the number'))\n",
    "square = sqaure_root(x)\n",
    "print('the square root of' , x , 'is' , square)"
   ]
  },
  {
   "cell_type": "code",
   "execution_count": 3,
   "id": "ae05ae24-aaaa-4ede-b099-2020317ff184",
   "metadata": {},
   "outputs": [
    {
     "name": "stdout",
     "output_type": "stream",
     "text": [
      "2\n",
      "3\n",
      "5\n",
      "7\n",
      "11\n",
      "13\n",
      "17\n",
      "19\n",
      "23\n",
      "29\n",
      "31\n",
      "37\n",
      "41\n",
      "43\n",
      "47\n"
     ]
    }
   ],
   "source": [
    "def is_prime(n):\n",
    "    if n < 2:\n",
    "        return False\n",
    "    for i in range(2, int(n**0.5) + 1):\n",
    "        if n % i == 0:\n",
    "            return False\n",
    "    return True\n",
    "\n",
    "for i in range(2, 51):\n",
    "    if is_prime(i):\n",
    "        print(i)"
   ]
  },
  {
   "cell_type": "code",
   "execution_count": 2,
   "id": "c3254b28-35bd-440d-a981-fe695d670a4b",
   "metadata": {},
   "outputs": [
    {
     "name": "stdout",
     "output_type": "stream",
     "text": [
      "a = 9\n",
      "b = 5\n",
      "c = 8\n"
     ]
    }
   ],
   "source": [
    "a = 5\n",
    "b = 8\n",
    "c = 9\n",
    "\n",
    "a,b,c = c,a,b\n",
    "\n",
    "print('a =',a)\n",
    "print('b =',b)\n",
    "print('c =',c)"
   ]
  },
  {
   "cell_type": "code",
   "execution_count": 3,
   "id": "b2663e3c-a7b4-48fe-93a3-87860d502b1e",
   "metadata": {},
   "outputs": [
    {
     "name": "stdout",
     "output_type": "stream",
     "text": [
      "number is positive\n"
     ]
    }
   ],
   "source": [
    "number = 87\n",
    "\n",
    "if number > 0:\n",
    "    print('number is positive')\n",
    "elif(number < 0):\n",
    "    print('number is negative')\n",
    "else:\n",
    "    print('number equal to zero')"
   ]
  },
  {
   "cell_type": "code",
   "execution_count": 15,
   "id": "98360132-1e12-477a-aea3-91258ed0c55f",
   "metadata": {},
   "outputs": [
    {
     "name": "stdout",
     "output_type": "stream",
     "text": [
      "Even\n"
     ]
    }
   ],
   "source": [
    "num = 98\n",
    "\n",
    "if num % 2 == 0:\n",
    "    print('Even')\n",
    "else:\n",
    "    print('ODD')"
   ]
  },
  {
   "cell_type": "code",
   "execution_count": 22,
   "id": "6467aa26-4e2a-4936-b2c4-c57f58ab4b5f",
   "metadata": {},
   "outputs": [
    {
     "name": "stdout",
     "output_type": "stream",
     "text": [
      "the sum of digit is: 25\n"
     ]
    }
   ],
   "source": [
    "num = 76543\n",
    "sum = 0\n",
    "\n",
    "while num > 0:\n",
    "    sum += num % 10\n",
    "    num //=10\n",
    "    \n",
    "print('the sum of digit is:',sum)"
   ]
  },
  {
   "cell_type": "code",
   "execution_count": 32,
   "id": "e2f34cfe-aa85-4b5f-a34f-886f728311e0",
   "metadata": {},
   "outputs": [
    {
     "name": "stdout",
     "output_type": "stream",
     "text": [
      "the reverse number is: 6345\n"
     ]
    }
   ],
   "source": [
    "num = 5436\n",
    "reverse = 0\n",
    "\n",
    "while num > 0:\n",
    "    \n",
    "    digit = num % 10\n",
    "    \n",
    "    reverse = (reverse * 10) + digit\n",
    "    \n",
    "    num //=10\n",
    "    \n",
    "print('the reverse number is:', reverse)"
   ]
  },
  {
   "cell_type": "code",
   "execution_count": 34,
   "id": "ec32732f-4f23-4749-a9c8-9f7e9651a0b6",
   "metadata": {},
   "outputs": [
    {
     "name": "stdout",
     "output_type": "stream",
     "text": [
      "1996  is a leap year\n"
     ]
    }
   ],
   "source": [
    "year = 1996\n",
    "\n",
    "if(year % 4 == 0 and year % 100 != 0) or (year % 400 == 0):\n",
    "    print(year,' is a leap year')\n",
    "else:\n",
    "    print(year,'not a leap year')"
   ]
  },
  {
   "cell_type": "code",
   "execution_count": null,
   "id": "fb6393d9-2e2b-4632-bb54-6975c0993a8d",
   "metadata": {},
   "outputs": [],
   "source": [
    "def is_armstrong(num):\n",
    "\n",
    "    num_str = str(num)\n",
    "    num_digits = len(num_str)\n",
    "    \n",
    "    sum_of_cubes = sum([int(digit)**num_digits for digit in num_str])\n",
    "    \n",
    "\n",
    "    if sum_of_cubes == num:\n",
    "        return True\n",
    "    else:\n",
    "        return False\n",
    "\n",
    "num = 371\n",
    "if is_armstrong(num):\n",
    "    print(num, \"is an Armstrong number\")\n",
    "else:\n",
    "    print(num, \"is not an Armstrong number\")\n"
   ]
  }
 ],
 "metadata": {
  "kernelspec": {
   "display_name": "Python 3 (ipykernel)",
   "language": "python",
   "name": "python3"
  },
  "language_info": {
   "codemirror_mode": {
    "name": "ipython",
    "version": 3
   },
   "file_extension": ".py",
   "mimetype": "text/x-python",
   "name": "python",
   "nbconvert_exporter": "python",
   "pygments_lexer": "ipython3",
   "version": "3.10.8"
  }
 },
 "nbformat": 4,
 "nbformat_minor": 5
}
